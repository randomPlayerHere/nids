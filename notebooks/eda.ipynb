{
 "cells": [
  {
   "cell_type": "code",
   "execution_count": 7,
   "id": "d09deb32",
   "metadata": {},
   "outputs": [
    {
     "name": "stdout",
     "output_type": "stream",
     "text": [
      "The autoreload extension is already loaded. To reload it, use:\n",
      "  %reload_ext autoreload\n"
     ]
    }
   ],
   "source": [
    "%load_ext autoreload\n",
    "%autoreload 2\n",
    "\n",
    "import sys\n",
    "import os\n",
    "import pandas as pd\n",
    "import numpy as np\n",
    "import seaborn as sns\n",
    "import matplotlib.pyplot as plt\n",
    "\n",
    "notebook_path = os.getcwd()\n",
    "project_root = os.path.dirname(notebook_path)\n",
    "sys.path.append(project_root)\n",
    "from src.data_cleaning.data_handling import *\n",
    "from src.data_cleaning.data_cleaning import *\n"
   ]
  },
  {
   "cell_type": "code",
   "execution_count": 8,
   "id": "249f228c",
   "metadata": {},
   "outputs": [
    {
     "name": "stdout",
     "output_type": "stream",
     "text": [
      "/home/chimpanzee/coding/portfolio/nids/notebooks\n"
     ]
    }
   ],
   "source": [
    "print(os.getcwd())\n",
    "df = get_sample(fraction=0.001)"
   ]
  },
  {
   "cell_type": "code",
   "execution_count": 9,
   "id": "4d1bac49",
   "metadata": {},
   "outputs": [
    {
     "data": {
      "text/plain": [
       "(2831, 80)"
      ]
     },
     "execution_count": 9,
     "metadata": {},
     "output_type": "execute_result"
    }
   ],
   "source": [
    "df.shape"
   ]
  },
  {
   "cell_type": "code",
   "execution_count": 10,
   "id": "65b9197b",
   "metadata": {},
   "outputs": [
    {
     "name": "stdout",
     "output_type": "stream",
     "text": [
      "<class 'pandas.core.frame.DataFrame'>\n",
      "RangeIndex: 2831 entries, 0 to 2830\n",
      "Data columns (total 80 columns):\n",
      " #   Column                       Non-Null Count  Dtype  \n",
      "---  ------                       --------------  -----  \n",
      " 0   Destination Port             2831 non-null   int64  \n",
      " 1   Flow Duration                2831 non-null   int64  \n",
      " 2   Total Fwd Packets            2831 non-null   int64  \n",
      " 3   Total Backward Packets       2831 non-null   int64  \n",
      " 4   Total Length of Fwd Packets  2831 non-null   int64  \n",
      " 5   Total Length of Bwd Packets  2831 non-null   int64  \n",
      " 6   Fwd Packet Length Max        2831 non-null   int64  \n",
      " 7   Fwd Packet Length Min        2831 non-null   int64  \n",
      " 8   Fwd Packet Length Mean       2831 non-null   float64\n",
      " 9   Fwd Packet Length Std        2831 non-null   float64\n",
      " 10  Bwd Packet Length Max        2831 non-null   int64  \n",
      " 11  Bwd Packet Length Min        2831 non-null   int64  \n",
      " 12  Bwd Packet Length Mean       2831 non-null   float64\n",
      " 13  Bwd Packet Length Std        2831 non-null   float64\n",
      " 14  Flow Bytes/s                 2830 non-null   float64\n",
      " 15  Flow Packets/s               2831 non-null   float64\n",
      " 16  Flow IAT Mean                2831 non-null   float64\n",
      " 17  Flow IAT Std                 2831 non-null   float64\n",
      " 18  Flow IAT Max                 2831 non-null   int64  \n",
      " 19  Flow IAT Min                 2831 non-null   int64  \n",
      " 20  Fwd IAT Total                2831 non-null   int64  \n",
      " 21  Fwd IAT Mean                 2831 non-null   float64\n",
      " 22  Fwd IAT Std                  2831 non-null   float64\n",
      " 23  Fwd IAT Max                  2831 non-null   int64  \n",
      " 24  Fwd IAT Min                  2831 non-null   int64  \n",
      " 25  Bwd IAT Total                2831 non-null   int64  \n",
      " 26  Bwd IAT Mean                 2831 non-null   float64\n",
      " 27  Bwd IAT Std                  2831 non-null   float64\n",
      " 28  Bwd IAT Max                  2831 non-null   int64  \n",
      " 29  Bwd IAT Min                  2831 non-null   int64  \n",
      " 30  Fwd PSH Flags                2831 non-null   int64  \n",
      " 31  Bwd PSH Flags                2831 non-null   int64  \n",
      " 32  Fwd URG Flags                2831 non-null   int64  \n",
      " 33  Bwd URG Flags                2831 non-null   int64  \n",
      " 34  Fwd Header Length            2831 non-null   int64  \n",
      " 35  Bwd Header Length            2831 non-null   int64  \n",
      " 36  Fwd Packets/s                2831 non-null   float64\n",
      " 37  Bwd Packets/s                2831 non-null   float64\n",
      " 38  Min Packet Length            2831 non-null   int64  \n",
      " 39  Max Packet Length            2831 non-null   int64  \n",
      " 40  Packet Length Mean           2831 non-null   float64\n",
      " 41  Packet Length Std            2831 non-null   float64\n",
      " 42  Packet Length Variance       2831 non-null   float64\n",
      " 43  FIN Flag Count               2831 non-null   int64  \n",
      " 44  SYN Flag Count               2831 non-null   int64  \n",
      " 45  RST Flag Count               2831 non-null   int64  \n",
      " 46  PSH Flag Count               2831 non-null   int64  \n",
      " 47  ACK Flag Count               2831 non-null   int64  \n",
      " 48  URG Flag Count               2831 non-null   int64  \n",
      " 49  CWE Flag Count               2831 non-null   int64  \n",
      " 50  ECE Flag Count               2831 non-null   int64  \n",
      " 51  Down/Up Ratio                2831 non-null   int64  \n",
      " 52  Average Packet Size          2831 non-null   float64\n",
      " 53  Avg Fwd Segment Size         2831 non-null   float64\n",
      " 54  Avg Bwd Segment Size         2831 non-null   float64\n",
      " 55  Fwd Header Length.1          2831 non-null   int64  \n",
      " 56  Fwd Avg Bytes/Bulk           2831 non-null   int64  \n",
      " 57  Fwd Avg Packets/Bulk         2831 non-null   int64  \n",
      " 58  Fwd Avg Bulk Rate            2831 non-null   int64  \n",
      " 59  Bwd Avg Bytes/Bulk           2831 non-null   int64  \n",
      " 60  Bwd Avg Packets/Bulk         2831 non-null   int64  \n",
      " 61  Bwd Avg Bulk Rate            2831 non-null   int64  \n",
      " 62  Subflow Fwd Packets          2831 non-null   int64  \n",
      " 63  Subflow Fwd Bytes            2831 non-null   int64  \n",
      " 64  Subflow Bwd Packets          2831 non-null   int64  \n",
      " 65  Subflow Bwd Bytes            2831 non-null   int64  \n",
      " 66  Init_Win_bytes_forward       2831 non-null   int64  \n",
      " 67  Init_Win_bytes_backward      2831 non-null   int64  \n",
      " 68  act_data_pkt_fwd             2831 non-null   int64  \n",
      " 69  min_seg_size_forward         2831 non-null   int64  \n",
      " 70  Active Mean                  2831 non-null   float64\n",
      " 71  Active Std                   2831 non-null   float64\n",
      " 72  Active Max                   2831 non-null   int64  \n",
      " 73  Active Min                   2831 non-null   int64  \n",
      " 74  Idle Mean                    2831 non-null   float64\n",
      " 75  Idle Std                     2831 non-null   float64\n",
      " 76  Idle Max                     2831 non-null   int64  \n",
      " 77  Idle Min                     2831 non-null   int64  \n",
      " 78  Label                        2831 non-null   object \n",
      " 79  source                       2831 non-null   object \n",
      "dtypes: float64(24), int64(54), object(2)\n",
      "memory usage: 1.7+ MB\n"
     ]
    }
   ],
   "source": [
    "df.info()"
   ]
  },
  {
   "cell_type": "code",
   "execution_count": 11,
   "id": "426d40d5",
   "metadata": {},
   "outputs": [
    {
     "name": "stdout",
     "output_type": "stream",
     "text": [
      "Duplicate columns are: {'Fwd Avg Bytes/Bulk', 'Bwd Avg Bytes/Bulk', 'Subflow Bwd Bytes', 'ECE Flag Count', 'Fwd Header Length.1', 'Bwd Avg Bulk Rate', 'Subflow Bwd Packets', 'CWE Flag Count', 'Fwd Avg Packets/Bulk', 'Bwd Avg Packets/Bulk', 'Fwd URG Flags', 'Avg Bwd Segment Size', 'Avg Fwd Segment Size', 'Bwd URG Flags', 'Subflow Fwd Bytes', 'Fwd Avg Bulk Rate', 'SYN Flag Count', 'RST Flag Count', 'Subflow Fwd Packets'}\n",
      "Replaced inf with nan\n",
      "All tuples with Nan dropped\n",
      "Bwd PSH Flags has the same unique value for all the tuple\n"
     ]
    }
   ],
   "source": [
    "df = clean_df(df)"
   ]
  },
  {
   "cell_type": "code",
   "execution_count": 12,
   "id": "8c301c28",
   "metadata": {},
   "outputs": [],
   "source": [
    "reduced_df = redundancy_correlation_matrix(df)"
   ]
  },
  {
   "cell_type": "code",
   "execution_count": 13,
   "id": "16373cd8",
   "metadata": {},
   "outputs": [
    {
     "data": {
      "text/plain": [
       "(2830, 38)"
      ]
     },
     "execution_count": 13,
     "metadata": {},
     "output_type": "execute_result"
    }
   ],
   "source": [
    "reduced_df.shape"
   ]
  },
  {
   "cell_type": "code",
   "execution_count": null,
   "id": "ebad6fea",
   "metadata": {},
   "outputs": [],
   "source": []
  }
 ],
 "metadata": {
  "kernelspec": {
   "display_name": "venv",
   "language": "python",
   "name": "python3"
  },
  "language_info": {
   "codemirror_mode": {
    "name": "ipython",
    "version": 3
   },
   "file_extension": ".py",
   "mimetype": "text/x-python",
   "name": "python",
   "nbconvert_exporter": "python",
   "pygments_lexer": "ipython3",
   "version": "3.13.7"
  }
 },
 "nbformat": 4,
 "nbformat_minor": 5
}
